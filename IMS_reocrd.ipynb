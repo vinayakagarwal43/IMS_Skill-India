{
 "cells": [
  {
   "cell_type": "code",
   "execution_count": 1,
   "id": "15a7fb6e",
   "metadata": {},
   "outputs": [],
   "source": [
    "import json"
   ]
  },
  {
   "cell_type": "code",
   "execution_count": 2,
   "id": "fbf0b496",
   "metadata": {},
   "outputs": [
    {
     "data": {
      "text/plain": [
       "{'1001': {'name': 'Choco Cake', 'qn': 34, 'pr': 100},\n",
       " '1002': {'name': 'Milk Cake', 'pr': 800, 'qn': 100},\n",
       " '1003': {'name': 'Drink', 'pr': 85, 'qn': 100},\n",
       " '1004': {'name': 'Candy', 'pr': 5, 'qn': 1000},\n",
       " '1005': {'name': 'Pen', 'pr': 20, 'qn': 100},\n",
       " '1006': {'name': 'Phone', 'pr': 50000, 'qn': 10},\n",
       " '1007': {'name': 'Mic', 'pr': 1500, 'qn': 0},\n",
       " '1008': {'name': 'Case', 'pr': 599, 'qn': 5},\n",
       " '1009': {'name': 'Keyboard', 'pr': 1999, 'qn': 10}}"
      ]
     },
     "execution_count": 2,
     "metadata": {},
     "output_type": "execute_result"
    }
   ],
   "source": [
    "fd = open(\"record.json\",'r')\n",
    "r = fd.read()\n",
    "fd.close()\n",
    "\n",
    "record = json.loads(r)\n",
    "record"
   ]
  },
  {
   "cell_type": "code",
   "execution_count": 3,
   "id": "c7787292",
   "metadata": {},
   "outputs": [
    {
     "data": {
      "text/plain": [
       "{}"
      ]
     },
     "execution_count": 3,
     "metadata": {},
     "output_type": "execute_result"
    }
   ],
   "source": [
    "del record['1001']\n",
    "del record['1002']\n",
    "del record['1003']\n",
    "del record['1004']\n",
    "del record['1005']\n",
    "del record['1006']\n",
    "del record['1007']\n",
    "del record['1008']\n",
    "del record['1009']\n",
    "record"
   ]
  },
  {
   "cell_type": "code",
   "execution_count": 6,
   "id": "8328fda0",
   "metadata": {},
   "outputs": [],
   "source": [
    "x = '1000'"
   ]
  },
  {
   "cell_type": "code",
   "execution_count": 45,
   "id": "e7b6cf88",
   "metadata": {},
   "outputs": [
    {
     "name": "stdout",
     "output_type": "stream",
     "text": [
      "Enter product id:1030\n",
      "Enter product name:Shirt\n",
      "Enter item price:700\n",
      "Enter quantity:20\n",
      "Enter the tax slab (5/12/18/28 %):81\n",
      "Enter product weight:200\n"
     ]
    },
    {
     "data": {
      "text/plain": [
       "{'1001': {'name': 'Maggi', 'pr': 12, 'qn': 100, 'tax': 18, 'wt': 70},\n",
       " '1002': {'name': 'WaiWai', 'pr': 10, 'qn': 500, 'tax': 12, 'wt': 62},\n",
       " '1003': {'name': 'Kurkure', 'pr': 10, 'qn': 200, 'tax': 18, 'wt': 50},\n",
       " '1004': {'name': 'Lays', 'pr': 20, 'qn': 50, 'tax': 28, 'wt': 50},\n",
       " '1005': {'name': 'DairyMilk', 'pr': 40, 'qn': 30, 'tax': 28, 'wt': 30},\n",
       " '1006': {'name': '5Star', 'pr': 10, 'qn': 10, 'tax': 28, 'wt': 10},\n",
       " '1007': {'name': 'ThumsUp', 'pr': 40, 'qn': 70, 'tax': 18, 'wt': 750},\n",
       " '1008': {'name': 'Sprite', 'pr': 40, 'qn': 80, 'tax': 18, 'wt': 750},\n",
       " '1009': {'name': 'Coke', 'pr': 20, 'qn': 202, 'tax': 18, 'wt': 250},\n",
       " '1010': {'name': 'Limca', 'pr': 28, 'qn': 100, 'tax': 18, 'wt': 500},\n",
       " '1011': {'name': 'ChocoCake', 'pr': 20, 'qn': 90, 'tax': 28, 'wt': 25},\n",
       " '1012': {'name': 'IceCream', 'pr': 20, 'qn': 100, 'tax': 12, 'wt': 30},\n",
       " '1013': {'name': 'Atta', 'pr': 180, 'qn': 30, 'tax': 5, 'wt': 5000},\n",
       " '1014': {'name': 'Dal', 'pr': 110, 'qn': 40, 'tax': 5, 'wt': 1000},\n",
       " '1015': {'name': 'Rice', 'pr': 80, 'qn': 32, 'tax': 5, 'wt': 1000},\n",
       " '1016': {'name': 'Colgate', 'pr': 80, 'qn': 40, 'tax': 18, 'wt': 200},\n",
       " '1017': {'name': 'CloseUp', 'pr': 45, 'qn': 30, 'tax': 18, 'wt': 100},\n",
       " '1018': {'name': 'Battery', 'pr': 15, 'qn': 20, 'tax': 12, 'wt': 29},\n",
       " '1019': {'name': 'Phone', 'pr': 10000, 'qn': 30, 'tax': 18, 'wt': 180},\n",
       " '1020': {'name': 'MobileCase', 'pr': 200, 'qn': 20, 'tax': 28, 'wt': 20},\n",
       " '1021': {'name': 'Pen', 'pr': 10, 'qn': 100, 'tax': 12, 'wt': 10},\n",
       " '1022': {'name': 'Nottebook', 'pr': 30, 'qn': 50, 'tax': 12, 'wt': 100},\n",
       " '1023': {'name': 'Marker', 'pr': 20, 'qn': 20, 'tax': 28, 'wt': 10},\n",
       " '1024': {'name': 'Dettol', 'pr': 40, 'qn': 70, 'tax': 12, 'wt': 100},\n",
       " '1025': {'name': 'Ariel', 'pr': 60, 'qn': 42, 'tax': 28, 'wt': 400},\n",
       " '1026': {'name': 'VimBar', 'pr': 10, 'qn': 50, 'tax': 12, 'wt': 10},\n",
       " '1027': {'name': 'Lizol', 'pr': 90, 'qn': 20, 'tax': 28, 'wt': 500},\n",
       " '1028': {'name': 'Jeans', 'pr': 800, 'qn': 20, 'tax': 18, 'wt': 300},\n",
       " '1029': {'name': 'tShirt', 'pr': 300, 'qn': 20, 'tax': 18, 'wt': 200},\n",
       " '1030': {'name': 'Shirt', 'pr': 700, 'qn': 20, 'tax': 81, 'wt': 200}}"
      ]
     },
     "execution_count": 45,
     "metadata": {},
     "output_type": "execute_result"
    }
   ],
   "source": [
    "pid = str(input(\"Enter product id:\"))\n",
    "\n",
    "if pid<=x:\n",
    "    qn = int(input(\"Enter quantity:\"))\n",
    "    record[pid] = {'name': name, 'pr': pr, 'qn': record[pid]['qn']+qn, 'tax': tax, 'wt': wt}\n",
    "else:\n",
    "    name = str(input(\"Enter product name:\"))\n",
    "    pr = int(input(\"Enter item price:\"))\n",
    "    qn = int(input(\"Enter quantity:\"))\n",
    "    tax = int(input(\"Enter the tax slab (5/12/18/28 %):\"))\n",
    "    wt = int(input(\"Enter product weight:\"))\n",
    "    x=pid\n",
    "    record[pid] = {'name': name, 'pr': pr, 'qn': qn, 'tax': tax, 'wt': wt}\n",
    "\n",
    "js = json.dumps(record)\n",
    "\n",
    "fd = open(\"record.json\",'w')\n",
    "fd.write(js)\n",
    "fd.close()\n",
    "record"
   ]
  }
 ],
 "metadata": {
  "kernelspec": {
   "display_name": "Python 3",
   "language": "python",
   "name": "python3"
  },
  "language_info": {
   "codemirror_mode": {
    "name": "ipython",
    "version": 3
   },
   "file_extension": ".py",
   "mimetype": "text/x-python",
   "name": "python",
   "nbconvert_exporter": "python",
   "pygments_lexer": "ipython3",
   "version": "3.8.8"
  }
 },
 "nbformat": 4,
 "nbformat_minor": 5
}
