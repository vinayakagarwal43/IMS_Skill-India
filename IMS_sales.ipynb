{
 "cells": [
  {
   "cell_type": "code",
   "execution_count": 1,
   "id": "7f165621",
   "metadata": {},
   "outputs": [],
   "source": [
    "import json\n",
    "\n",
    "fd = open(\"record.json\",'r')\n",
    "r = fd.read()\n",
    "fd.close()\n",
    "\n",
    "records = json.loads(r)"
   ]
  },
  {
   "cell_type": "code",
   "execution_count": 17,
   "id": "9b9e731c",
   "metadata": {},
   "outputs": [
    {
     "name": "stdout",
     "output_type": "stream",
     "text": [
      "Enter the product_Id: 1029\n",
      "Enter the quantity: 1\n",
      "Product:  tShirt\n",
      "Price:  300\n",
      "Billing Amount:  300\n"
     ]
    }
   ],
   "source": [
    "ui_prod  = str(input(\"Enter the product_Id: \"))\n",
    "ui_quant = int(input(\"Enter the quantity: \"))\n",
    "\n",
    "if ui_quant>records[ui_prod]['qn']:\n",
    "    print(\"Sorry Insufficient Quantity!\")\n",
    "else:\n",
    "    print(\"Product: \", records[ui_prod]['name'])\n",
    "    print(\"Price: \", records[ui_prod]['pr'])\n",
    "    print(\"Billing Amount: \", records[ui_prod]['pr'] * ui_quant)\n",
    "    records[ui_prod]['qn'] = records[ui_prod]['qn'] - ui_quant\n",
    "    \n",
    "    fd = open(\"sales.json\",'r')\n",
    "    r = fd.read()\n",
    "    fd.close()\n",
    "   "
   ]
  }
 ],
 "metadata": {
  "kernelspec": {
   "display_name": "Python 3",
   "language": "python",
   "name": "python3"
  },
  "language_info": {
   "codemirror_mode": {
    "name": "ipython",
    "version": 3
   },
   "file_extension": ".py",
   "mimetype": "text/x-python",
   "name": "python",
   "nbconvert_exporter": "python",
   "pygments_lexer": "ipython3",
   "version": "3.8.8"
  }
 },
 "nbformat": 4,
 "nbformat_minor": 5
}
